{
 "cells": [
  {
   "cell_type": "code",
   "execution_count": 34,
   "id": "57981de1-ff5a-4294-9d74-6091ba7705b1",
   "metadata": {},
   "outputs": [
    {
     "name": "stdin",
     "output_type": "stream",
     "text": [
      " hello world hello everyone\n"
     ]
    },
    {
     "name": "stdout",
     "output_type": "stream",
     "text": [
      "['hello', 'world', 'hello', 'everyone']\n",
      "{'hello': 2, 'world': 1, 'everyone': 1}\n"
     ]
    }
   ],
   "source": [
    "sentence = input()\n",
    "words = sentence.split()\n",
    "print(words)\n",
    "\n",
    "dic = {}\n",
    "for i in words:\n",
    "    if i not in dic:\n",
    "        dic[i] = 1\n",
    "    else:\n",
    "        dic[i] += 1\n",
    "print(dic)"
   ]
  },
  {
   "cell_type": "code",
   "execution_count": 24,
   "id": "f21402a9-73b5-4deb-922f-d4b28a2867ee",
   "metadata": {},
   "outputs": [
    {
     "name": "stdin",
     "output_type": "stream",
     "text": [
      " hello world hello everyone\n"
     ]
    },
    {
     "data": {
      "text/plain": [
       "{'hello': 2, 'world': 1, 'everyone': 1}"
      ]
     },
     "execution_count": 24,
     "metadata": {},
     "output_type": "execute_result"
    }
   ],
   "source": [
    "sentence = input()\n",
    "words = sentence.split()\n",
    "\n",
    "def count_words(words):\n",
    "    dic = {}\n",
    "    for i in words:\n",
    "        if i not in dic:\n",
    "            dic[i] = 1\n",
    "        else:\n",
    "            dic[i] += 1\n",
    "    return dic\n",
    "count_words(words)"
   ]
  },
  {
   "cell_type": "code",
   "execution_count": null,
   "id": "4170db60-24c8-416c-89aa-76a2058fa2f8",
   "metadata": {},
   "outputs": [],
   "source": []
  }
 ],
 "metadata": {
  "kernelspec": {
   "display_name": "Python 3 (ipykernel)",
   "language": "python",
   "name": "python3"
  },
  "language_info": {
   "codemirror_mode": {
    "name": "ipython",
    "version": 3
   },
   "file_extension": ".py",
   "mimetype": "text/x-python",
   "name": "python",
   "nbconvert_exporter": "python",
   "pygments_lexer": "ipython3",
   "version": "3.11.7"
  }
 },
 "nbformat": 4,
 "nbformat_minor": 5
}
